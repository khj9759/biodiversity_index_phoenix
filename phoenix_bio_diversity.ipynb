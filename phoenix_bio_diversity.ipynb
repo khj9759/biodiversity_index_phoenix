{
 "cells": [
  {
   "cell_type": "markdown",
   "id": "e7dcf30a-fa2e-49af-aae3-2975d09bc020",
   "metadata": {},
   "source": [
    "# Biodiversity Intactness Index change in Phoenix subdivision\n",
    "Author: Haejin Kim\n",
    "Repository: https://github.com/khj9759/biodiversity_index_phoenix/"
   ]
  },
  {
   "cell_type": "markdown",
   "id": "1945eb0b-2ea6-47f2-aa82-d8819e1ccc55",
   "metadata": {},
   "source": [
    "## About\n",
    "\n",
    "In 2021, Maricopa County, part of Phoenix's metropolitan area, saw the largest increase in developed land in the US since 2001. Urban growth pressures biodiversity. We analyze a biodiversity dataset (BII) to track BII changes near Phoenix from 2017 to 2020"
   ]
  },
  {
   "cell_type": "markdown",
   "id": "198c607d-b673-4dee-ae63-94307b82cee2",
   "metadata": {},
   "source": [
    "## Highlight\n",
    "- Counting pixels employing NumPy functions\n",
    "- Handling geospatial raster datasets for reading and writing with rioxarray\n",
    "- Manipulating geospatial data using geopandas\n",
    "- Generating maps utilizing contextily\n",
    "- Creating and customizing SpatioTemporal Asset Catalog (STAC) maps"
   ]
  },
  {
   "cell_type": "markdown",
   "id": "c9a1134a-6f4f-4964-b11a-d3efc97d7b4c",
   "metadata": {},
   "source": [
    "## About the Data\n",
    "\n",
    "In this notebook, we utilize two datasets:\n",
    "\n",
    "##### 1) Biodiversity Index in Phoenix City, Arizona\n",
    "\n",
    "A global spatial model estimates human impacts on terrestrial Biodiversity Intactness, generating worldwide 100-meter gridded maps spanning from 2017 to 2020. This research extends previous studies mapping Biodiversity Intactness by leveraging the PREDICTS database, compiling biodiversity observations from over 750 studies across 32,000 sites.\n",
    "\n",
    "Biodiversity intactness involves two key measures:\n",
    "- Abundance: Indicates the number of individuals.\n",
    "- Compositional Similarity: Reflects how closely the species composition resembles an undisturbed standard.\n",
    "\n",
    "Using linear mixed effects models, spatial datasets of human impacts on these metrics are analyzed to predict outcomes. The results are projected globally across the planet's spatial layout. Detailed information is available in [2, 3].\n",
    "\n",
    "##### 2) Arizona State Map\n",
    "\n",
    "The second dataset comprises census data from the US Census Bureau, specifically focusing on Arizona states within the Phoenix area. Further information and metadata for this dataset are available in the 'tl_2022_04_cousub.shp' file located in the 'tl_2022_04_cousub' folder. \n",
    "File location in Website: https://www.census.gov/cgi-bin/geo/shapefiles/index.php?year=2022&layergroup=County+Subdivisions\n",
    "\n",
    "## Final Output\n",
    "\n",
    "This document aims to produce three main outputs:\n",
    "1) Create a map of the Phoenix subdivision within a suitable geographical context.\n",
    "\n",
    "<img src=\"image/phoenix_map.png\" alt=\"Example Image\" width=\"400\">\n",
    "\n",
    "2) Determine the percentage of the Phoenix subdivision area with a BII of at least 0.75 in 2017 and 2022.\n",
    "\n",
    "- percentage of area of the Phoenix subdivision with a BII of at least 0.75 in 2017 is 4.181 percent.\n",
    "- percentage of area of the Phoenix subdivision with a BII of at least 0.75 in 2020 is 3.809 percent.\n",
    "\n",
    "3) Generate a visualization showcasing the area with BII >= 0.75 in 2017 that was lost by 2022.\n",
    "\n",
    "<img src=\"image/Biodiversity_BII.png\" alt=\"Example Image\" width=\"400\">\n"
   ]
  },
  {
   "cell_type": "markdown",
   "id": "de3f0ded-e132-4a67-b099-da856a1ce0a4",
   "metadata": {},
   "source": [
    "## Import libraries"
   ]
  },
  {
   "cell_type": "code",
   "execution_count": null,
   "id": "30f19a02-89f0-4537-acc5-416a74e573eb",
   "metadata": {
    "tags": []
   },
   "outputs": [],
   "source": [
    "import numpy as np\n",
    "import geopandas as gpd\n",
    "import rioxarray as rioxr\n",
    "import matplotlib.pyplot as plt\n",
    "import os\n",
    "import pandas as pd\n",
    "import matplotlib.patches as mpatches\n",
    "\n",
    "# used to access STAC catalogs\n",
    "from pystac_client import Client\n",
    "# used to sign items from the MPC STAC catalog\n",
    "import planetary_computer\n",
    "\n",
    "# other libraries for nice outputs\n",
    "import contextily as ctx"
   ]
  },
  {
   "cell_type": "markdown",
   "id": "ca333447-8e02-40e9-bd94-ff1ff51f7c92",
   "metadata": {},
   "source": [
    "## Data Access\n",
    "\n",
    "Access the shape file of Pheonix, Arizona"
   ]
  },
  {
   "cell_type": "code",
   "execution_count": null,
   "id": "429d73b9-198d-409e-a5d3-52db7ba60c6c",
   "metadata": {
    "tags": []
   },
   "outputs": [],
   "source": [
    "arizona = gpd.read_file(os.path.join('data','tl_2022_04_cousub','tl_2022_04_cousub.shp'))\n",
    "# make column names small caps\n",
    "arizona.head()\n",
    "\n",
    "# re-assign the column names: .str.lower() makes them lower case\n",
    "arizona.columns = arizona.columns.str.lower()\n",
    "\n",
    "phoenix = arizona[arizona.name == \"Phoenix\"]\n",
    "\n",
    "phoenix.head()"
   ]
  },
  {
   "cell_type": "markdown",
   "id": "c2856ca6-a52e-4a4c-b9eb-2e6ffbe2de42",
   "metadata": {
    "tags": []
   },
   "source": [
    "Access Mircosoft planetary data. "
   ]
  },
  {
   "cell_type": "code",
   "execution_count": null,
   "id": "6260cb4e-6fe7-42af-a5bd-b853b37a2797",
   "metadata": {
    "tags": []
   },
   "outputs": [],
   "source": [
    "# access catalog\n",
    "catalog = Client.open(\n",
    "    \"https://planetarycomputer.microsoft.com/api/stac/v1\",\n",
    "    modifier = planetary_computer.sign_inplace)"
   ]
  },
  {
   "cell_type": "code",
   "execution_count": null,
   "id": "ac95a763-5863-4646-a549-6d35d1b3ad83",
   "metadata": {
    "tags": []
   },
   "outputs": [],
   "source": [
    "# access bio diversity\n",
    "bbox = [-112.826843, 32.974108, -111.184387, 33.863574]\n",
    "# catalog search\n",
    "search = catalog.search(\n",
    "    collections = ['io-biodiversity'], # list with collection id\n",
    "    bbox = [-112.826843, 32.974108, -111.184387, 33.863574],\n",
    "    datetime='2017/2020'\n",
    ") "
   ]
  },
  {
   "cell_type": "markdown",
   "id": "737deb6c-ddf4-4024-bf90-321557697c1a",
   "metadata": {},
   "source": [
    "## Preliminary exploration\n",
    "select the 2017 and 2022 dataset and find list of item"
   ]
  },
  {
   "cell_type": "code",
   "execution_count": null,
   "id": "c9399014-0f21-464e-b182-f6909bdd0f92",
   "metadata": {
    "tags": []
   },
   "outputs": [],
   "source": [
    "# retrieve items\n",
    "items = search.item_collection()\n",
    "\n",
    "print(f'There are {len(items)} items in the search.')\n",
    "    \n",
    "# list of the items\n",
    "items_list = {item.id: item for item in search.items()}\n",
    "list(items_list)"
   ]
  },
  {
   "cell_type": "markdown",
   "id": "4ed97757-56d6-4e7a-8513-38282dc66d3c",
   "metadata": {},
   "source": [
    "find the propery key in dataset "
   ]
  },
  {
   "cell_type": "code",
   "execution_count": null,
   "id": "1089dd85-1fed-4ab1-8db7-00a2d1c5b258",
   "metadata": {
    "tags": []
   },
   "outputs": [],
   "source": [
    "# select the 2017 and 2022 dataset\n",
    "bii_2017 = items[3]\n",
    "bii_2020 = items[0]\n",
    "\n",
    "# find the key in 2017\n",
    "print(\"This is a 2017 bio diversity key list: \")\n",
    "for key in bii_2017.assets.keys():\n",
    "    print(key, '--', bii_2017.assets[key].title)\n",
    "    \n",
    "# find the key in 2020 \n",
    "print(\"\\nThis is a 2020 bio diversity key list: \")\n",
    "for key in bii_2020.assets.keys():\n",
    "    print(key, '--', bii_2020.assets[key].title)"
   ]
  },
  {
   "cell_type": "code",
   "execution_count": null,
   "id": "d097db05-0b53-4be3-a9a0-0413cac03d91",
   "metadata": {},
   "outputs": [],
   "source": [
    "# load bii_2017 and bii_2020 data\n",
    "bii_2017_detail = rioxr.open_rasterio(bii_2017.assets['data'].href)\n",
    "bii_2020_detail = rioxr.open_rasterio(bii_2020.assets['data'].href)"
   ]
  },
  {
   "cell_type": "markdown",
   "id": "64a59744-8b73-4d75-af6a-7af038e98f0c",
   "metadata": {},
   "source": [
    "## Match the crs"
   ]
  },
  {
   "cell_type": "code",
   "execution_count": 8,
   "id": "350a73ee-cdc6-436d-ba85-da5816ec2138",
   "metadata": {
    "tags": []
   },
   "outputs": [
    {
     "data": {
      "text/plain": [
       "<Geographic 2D CRS: EPSG:4326>\n",
       "Name: WGS 84\n",
       "Axis Info [ellipsoidal]:\n",
       "- Lat[north]: Geodetic latitude (degree)\n",
       "- Lon[east]: Geodetic longitude (degree)\n",
       "Area of Use:\n",
       "- undefined\n",
       "Datum: World Geodetic System 1984\n",
       "- Ellipsoid: WGS 84\n",
       "- Prime Meridian: Greenwich"
      ]
     },
     "execution_count": 8,
     "metadata": {},
     "output_type": "execute_result"
    }
   ],
   "source": [
    "# find the each crs \n",
    "phoenix.crs == bii_2017_detail.rio.crs # false\n",
    "phoenix.crs #4269\n",
    "bii_2017_detail.rio.crs #4326\n",
    "\n",
    "# match it properly \n",
    "phoenix = phoenix.to_crs(bii_2017_detail.rio.crs)\n",
    "phoenix.crs"
   ]
  },
  {
   "cell_type": "markdown",
   "id": "3d752a08-ff76-487d-b027-391fb2c671a3",
   "metadata": {},
   "source": [
    "## Geographic context\n",
    "\n",
    "Show the Phoenix subdivision within an appropriate geographical context."
   ]
  },
  {
   "cell_type": "code",
   "execution_count": 9,
   "id": "8a9506ae-181c-42e0-9ebc-e5f776f58c6b",
   "metadata": {
    "tags": []
   },
   "outputs": [
    {
     "ename": "KeyboardInterrupt",
     "evalue": "",
     "output_type": "error",
     "traceback": [
      "\u001b[0;31m---------------------------------------------------------------------------\u001b[0m",
      "\u001b[0;31mKeyboardInterrupt\u001b[0m                         Traceback (most recent call last)",
      "\u001b[1;32m/Users/haejinkim/Documents/UCSB/Fall23/EDS220_enviro/biodiversity_index_phoenix/phoenix_bio_diversity.ipynb Cell 20\u001b[0m line \u001b[0;36m7\n\u001b[1;32m      <a href='vscode-notebook-cell:/Users/haejinkim/Documents/UCSB/Fall23/EDS220_enviro/biodiversity_index_phoenix/phoenix_bio_diversity.ipynb#X25sZmlsZQ%3D%3D?line=1'>2</a>\u001b[0m ax \u001b[39m=\u001b[39m (phoenix\u001b[39m.\u001b[39mto_crs(epsg\u001b[39m=\u001b[39m\u001b[39m3857\u001b[39m)\n\u001b[1;32m      <a href='vscode-notebook-cell:/Users/haejinkim/Documents/UCSB/Fall23/EDS220_enviro/biodiversity_index_phoenix/phoenix_bio_diversity.ipynb#X25sZmlsZQ%3D%3D?line=2'>3</a>\u001b[0m       \u001b[39m.\u001b[39mplot(figsize\u001b[39m=\u001b[39m(\u001b[39m7\u001b[39m, \u001b[39m7\u001b[39m), alpha\u001b[39m=\u001b[39m\u001b[39m0.5\u001b[39m, edgecolor\u001b[39m=\u001b[39m\u001b[39m\"\u001b[39m\u001b[39mk\u001b[39m\u001b[39m\"\u001b[39m))\n\u001b[1;32m      <a href='vscode-notebook-cell:/Users/haejinkim/Documents/UCSB/Fall23/EDS220_enviro/biodiversity_index_phoenix/phoenix_bio_diversity.ipynb#X25sZmlsZQ%3D%3D?line=4'>5</a>\u001b[0m \u001b[39m# --------------------------------------\u001b[39;00m\n\u001b[1;32m      <a href='vscode-notebook-cell:/Users/haejinkim/Documents/UCSB/Fall23/EDS220_enviro/biodiversity_index_phoenix/phoenix_bio_diversity.ipynb#X25sZmlsZQ%3D%3D?line=5'>6</a>\u001b[0m \u001b[39m# add basemap from contextily\u001b[39;00m\n\u001b[0;32m----> <a href='vscode-notebook-cell:/Users/haejinkim/Documents/UCSB/Fall23/EDS220_enviro/biodiversity_index_phoenix/phoenix_bio_diversity.ipynb#X25sZmlsZQ%3D%3D?line=6'>7</a>\u001b[0m ctx\u001b[39m.\u001b[39;49madd_basemap(ax, source \u001b[39m=\u001b[39;49m ctx\u001b[39m.\u001b[39;49mproviders\u001b[39m.\u001b[39;49mEsri\u001b[39m.\u001b[39;49mNatGeoWorldMap)\n\u001b[1;32m      <a href='vscode-notebook-cell:/Users/haejinkim/Documents/UCSB/Fall23/EDS220_enviro/biodiversity_index_phoenix/phoenix_bio_diversity.ipynb#X25sZmlsZQ%3D%3D?line=8'>9</a>\u001b[0m \u001b[39m# Customization\u001b[39;00m\n\u001b[1;32m     <a href='vscode-notebook-cell:/Users/haejinkim/Documents/UCSB/Fall23/EDS220_enviro/biodiversity_index_phoenix/phoenix_bio_diversity.ipynb#X25sZmlsZQ%3D%3D?line=9'>10</a>\u001b[0m ax\u001b[39m.\u001b[39mset_title(\u001b[39m'\u001b[39m\u001b[39mPhoenix Subdivision Map\u001b[39m\u001b[39m'\u001b[39m)\n",
      "File \u001b[0;32m~/anaconda3/envs/mpc-env/lib/python3.11/site-packages/contextily/plotting.py:129\u001b[0m, in \u001b[0;36madd_basemap\u001b[0;34m(ax, zoom, source, interpolation, attribution, attribution_size, reset_extent, crs, resampling, **extra_imshow_args)\u001b[0m\n\u001b[1;32m    125\u001b[0m     left, right, bottom, top \u001b[39m=\u001b[39m _reproj_bb(\n\u001b[1;32m    126\u001b[0m         left, right, bottom, top, crs, \u001b[39m\"\u001b[39m\u001b[39mepsg:3857\u001b[39m\u001b[39m\"\u001b[39m\n\u001b[1;32m    127\u001b[0m     )\n\u001b[1;32m    128\u001b[0m \u001b[39m# Download image\u001b[39;00m\n\u001b[0;32m--> 129\u001b[0m image, extent \u001b[39m=\u001b[39m bounds2img(\n\u001b[1;32m    130\u001b[0m     left, bottom, right, top, zoom\u001b[39m=\u001b[39;49mzoom, source\u001b[39m=\u001b[39;49msource, ll\u001b[39m=\u001b[39;49m\u001b[39mFalse\u001b[39;49;00m\n\u001b[1;32m    131\u001b[0m )\n\u001b[1;32m    132\u001b[0m \u001b[39m# Warping\u001b[39;00m\n\u001b[1;32m    133\u001b[0m \u001b[39mif\u001b[39;00m crs \u001b[39mis\u001b[39;00m \u001b[39mnot\u001b[39;00m \u001b[39mNone\u001b[39;00m:\n",
      "File \u001b[0;32m~/anaconda3/envs/mpc-env/lib/python3.11/site-packages/contextily/tile.py:256\u001b[0m, in \u001b[0;36mbounds2img\u001b[0;34m(w, s, e, n, zoom, source, ll, wait, max_retries, n_connections, use_cache)\u001b[0m\n\u001b[1;32m    254\u001b[0m preferred_backend \u001b[39m=\u001b[39m \u001b[39m\"\u001b[39m\u001b[39mthreads\u001b[39m\u001b[39m\"\u001b[39m \u001b[39mif\u001b[39;00m (n_connections \u001b[39m==\u001b[39m \u001b[39m1\u001b[39m \u001b[39mor\u001b[39;00m \u001b[39mnot\u001b[39;00m use_cache) \u001b[39melse\u001b[39;00m \u001b[39m\"\u001b[39m\u001b[39mprocesses\u001b[39m\u001b[39m\"\u001b[39m\n\u001b[1;32m    255\u001b[0m fetch_tile_fn \u001b[39m=\u001b[39m memory\u001b[39m.\u001b[39mcache(_fetch_tile) \u001b[39mif\u001b[39;00m use_cache \u001b[39melse\u001b[39;00m _fetch_tile\n\u001b[0;32m--> 256\u001b[0m arrays \u001b[39m=\u001b[39m Parallel(n_jobs\u001b[39m=\u001b[39;49mn_connections, prefer\u001b[39m=\u001b[39;49mpreferred_backend)(\n\u001b[1;32m    257\u001b[0m     delayed(fetch_tile_fn)(tile_url, wait, max_retries) \u001b[39mfor\u001b[39;49;00m tile_url \u001b[39min\u001b[39;49;00m tile_urls)\n\u001b[1;32m    258\u001b[0m \u001b[39m# merge downloaded tiles\u001b[39;00m\n\u001b[1;32m    259\u001b[0m merged, extent \u001b[39m=\u001b[39m _merge_tiles(tiles, arrays)\n",
      "File \u001b[0;32m~/anaconda3/envs/mpc-env/lib/python3.11/site-packages/joblib/parallel.py:1863\u001b[0m, in \u001b[0;36mParallel.__call__\u001b[0;34m(self, iterable)\u001b[0m\n\u001b[1;32m   1861\u001b[0m     output \u001b[39m=\u001b[39m \u001b[39mself\u001b[39m\u001b[39m.\u001b[39m_get_sequential_output(iterable)\n\u001b[1;32m   1862\u001b[0m     \u001b[39mnext\u001b[39m(output)\n\u001b[0;32m-> 1863\u001b[0m     \u001b[39mreturn\u001b[39;00m output \u001b[39mif\u001b[39;00m \u001b[39mself\u001b[39m\u001b[39m.\u001b[39mreturn_generator \u001b[39melse\u001b[39;00m \u001b[39mlist\u001b[39;49m(output)\n\u001b[1;32m   1865\u001b[0m \u001b[39m# Let's create an ID that uniquely identifies the current call. If the\u001b[39;00m\n\u001b[1;32m   1866\u001b[0m \u001b[39m# call is interrupted early and that the same instance is immediately\u001b[39;00m\n\u001b[1;32m   1867\u001b[0m \u001b[39m# re-used, this id will be used to prevent workers that were\u001b[39;00m\n\u001b[1;32m   1868\u001b[0m \u001b[39m# concurrently finalizing a task from the previous call to run the\u001b[39;00m\n\u001b[1;32m   1869\u001b[0m \u001b[39m# callback.\u001b[39;00m\n\u001b[1;32m   1870\u001b[0m \u001b[39mwith\u001b[39;00m \u001b[39mself\u001b[39m\u001b[39m.\u001b[39m_lock:\n",
      "File \u001b[0;32m~/anaconda3/envs/mpc-env/lib/python3.11/site-packages/joblib/parallel.py:1792\u001b[0m, in \u001b[0;36mParallel._get_sequential_output\u001b[0;34m(self, iterable)\u001b[0m\n\u001b[1;32m   1790\u001b[0m \u001b[39mself\u001b[39m\u001b[39m.\u001b[39mn_dispatched_batches \u001b[39m+\u001b[39m\u001b[39m=\u001b[39m \u001b[39m1\u001b[39m\n\u001b[1;32m   1791\u001b[0m \u001b[39mself\u001b[39m\u001b[39m.\u001b[39mn_dispatched_tasks \u001b[39m+\u001b[39m\u001b[39m=\u001b[39m \u001b[39m1\u001b[39m\n\u001b[0;32m-> 1792\u001b[0m res \u001b[39m=\u001b[39m func(\u001b[39m*\u001b[39;49margs, \u001b[39m*\u001b[39;49m\u001b[39m*\u001b[39;49mkwargs)\n\u001b[1;32m   1793\u001b[0m \u001b[39mself\u001b[39m\u001b[39m.\u001b[39mn_completed_tasks \u001b[39m+\u001b[39m\u001b[39m=\u001b[39m \u001b[39m1\u001b[39m\n\u001b[1;32m   1794\u001b[0m \u001b[39mself\u001b[39m\u001b[39m.\u001b[39mprint_progress()\n",
      "File \u001b[0;32m~/anaconda3/envs/mpc-env/lib/python3.11/site-packages/joblib/memory.py:655\u001b[0m, in \u001b[0;36mMemorizedFunc.__call__\u001b[0;34m(self, *args, **kwargs)\u001b[0m\n\u001b[1;32m    654\u001b[0m \u001b[39mdef\u001b[39;00m \u001b[39m__call__\u001b[39m(\u001b[39mself\u001b[39m, \u001b[39m*\u001b[39margs, \u001b[39m*\u001b[39m\u001b[39m*\u001b[39mkwargs):\n\u001b[0;32m--> 655\u001b[0m     \u001b[39mreturn\u001b[39;00m \u001b[39mself\u001b[39;49m\u001b[39m.\u001b[39;49m_cached_call(args, kwargs)[\u001b[39m0\u001b[39m]\n",
      "File \u001b[0;32m~/anaconda3/envs/mpc-env/lib/python3.11/site-packages/joblib/memory.py:598\u001b[0m, in \u001b[0;36mMemorizedFunc._cached_call\u001b[0;34m(self, args, kwargs, shelving)\u001b[0m\n\u001b[1;32m    595\u001b[0m     must_call \u001b[39m=\u001b[39m \u001b[39mTrue\u001b[39;00m\n\u001b[1;32m    597\u001b[0m \u001b[39mif\u001b[39;00m must_call:\n\u001b[0;32m--> 598\u001b[0m     out, metadata \u001b[39m=\u001b[39m \u001b[39mself\u001b[39;49m\u001b[39m.\u001b[39;49mcall(\u001b[39m*\u001b[39;49margs, \u001b[39m*\u001b[39;49m\u001b[39m*\u001b[39;49mkwargs)\n\u001b[1;32m    599\u001b[0m     \u001b[39mif\u001b[39;00m \u001b[39mself\u001b[39m\u001b[39m.\u001b[39mmmap_mode \u001b[39mis\u001b[39;00m \u001b[39mnot\u001b[39;00m \u001b[39mNone\u001b[39;00m:\n\u001b[1;32m    600\u001b[0m         \u001b[39m# Memmap the output at the first call to be consistent with\u001b[39;00m\n\u001b[1;32m    601\u001b[0m         \u001b[39m# later calls\u001b[39;00m\n\u001b[1;32m    602\u001b[0m         \u001b[39mif\u001b[39;00m \u001b[39mself\u001b[39m\u001b[39m.\u001b[39m_verbose:\n",
      "File \u001b[0;32m~/anaconda3/envs/mpc-env/lib/python3.11/site-packages/joblib/memory.py:856\u001b[0m, in \u001b[0;36mMemorizedFunc.call\u001b[0;34m(self, *args, **kwargs)\u001b[0m\n\u001b[1;32m    854\u001b[0m \u001b[39mif\u001b[39;00m \u001b[39mself\u001b[39m\u001b[39m.\u001b[39m_verbose \u001b[39m>\u001b[39m \u001b[39m0\u001b[39m:\n\u001b[1;32m    855\u001b[0m     \u001b[39mprint\u001b[39m(format_call(\u001b[39mself\u001b[39m\u001b[39m.\u001b[39mfunc, args, kwargs))\n\u001b[0;32m--> 856\u001b[0m output \u001b[39m=\u001b[39m \u001b[39mself\u001b[39;49m\u001b[39m.\u001b[39;49mfunc(\u001b[39m*\u001b[39;49margs, \u001b[39m*\u001b[39;49m\u001b[39m*\u001b[39;49mkwargs)\n\u001b[1;32m    857\u001b[0m \u001b[39mself\u001b[39m\u001b[39m.\u001b[39mstore_backend\u001b[39m.\u001b[39mdump_item(\n\u001b[1;32m    858\u001b[0m     [func_id, args_id], output, verbose\u001b[39m=\u001b[39m\u001b[39mself\u001b[39m\u001b[39m.\u001b[39m_verbose)\n\u001b[1;32m    860\u001b[0m duration \u001b[39m=\u001b[39m time\u001b[39m.\u001b[39mtime() \u001b[39m-\u001b[39m start_time\n",
      "File \u001b[0;32m~/anaconda3/envs/mpc-env/lib/python3.11/site-packages/contextily/tile.py:285\u001b[0m, in \u001b[0;36m_fetch_tile\u001b[0;34m(tile_url, wait, max_retries)\u001b[0m\n\u001b[1;32m    284\u001b[0m \u001b[39mdef\u001b[39;00m \u001b[39m_fetch_tile\u001b[39m(tile_url, wait, max_retries):\n\u001b[0;32m--> 285\u001b[0m     request \u001b[39m=\u001b[39m _retryer(tile_url, wait, max_retries)\n\u001b[1;32m    286\u001b[0m     \u001b[39mwith\u001b[39;00m io\u001b[39m.\u001b[39mBytesIO(request\u001b[39m.\u001b[39mcontent) \u001b[39mas\u001b[39;00m image_stream:\n\u001b[1;32m    287\u001b[0m         image \u001b[39m=\u001b[39m Image\u001b[39m.\u001b[39mopen(image_stream)\u001b[39m.\u001b[39mconvert(\u001b[39m\"\u001b[39m\u001b[39mRGBA\u001b[39m\u001b[39m\"\u001b[39m)\n",
      "File \u001b[0;32m~/anaconda3/envs/mpc-env/lib/python3.11/site-packages/contextily/tile.py:428\u001b[0m, in \u001b[0;36m_retryer\u001b[0;34m(tile_url, wait, max_retries)\u001b[0m\n\u001b[1;32m    408\u001b[0m \u001b[39m\u001b[39m\u001b[39m\"\"\"\u001b[39;00m\n\u001b[1;32m    409\u001b[0m \u001b[39mRetry a url many times in attempt to get a tile\u001b[39;00m\n\u001b[1;32m    410\u001b[0m \n\u001b[0;32m   (...)\u001b[0m\n\u001b[1;32m    425\u001b[0m \u001b[39mrequest object containing the web response.\u001b[39;00m\n\u001b[1;32m    426\u001b[0m \u001b[39m\"\"\"\u001b[39;00m\n\u001b[1;32m    427\u001b[0m \u001b[39mtry\u001b[39;00m:\n\u001b[0;32m--> 428\u001b[0m     request \u001b[39m=\u001b[39m requests\u001b[39m.\u001b[39;49mget(tile_url, headers\u001b[39m=\u001b[39;49m{\u001b[39m\"\u001b[39;49m\u001b[39muser-agent\u001b[39;49m\u001b[39m\"\u001b[39;49m: USER_AGENT})\n\u001b[1;32m    429\u001b[0m     request\u001b[39m.\u001b[39mraise_for_status()\n\u001b[1;32m    430\u001b[0m \u001b[39mexcept\u001b[39;00m requests\u001b[39m.\u001b[39mHTTPError:\n",
      "File \u001b[0;32m~/anaconda3/envs/mpc-env/lib/python3.11/site-packages/requests/api.py:73\u001b[0m, in \u001b[0;36mget\u001b[0;34m(url, params, **kwargs)\u001b[0m\n\u001b[1;32m     62\u001b[0m \u001b[39mdef\u001b[39;00m \u001b[39mget\u001b[39m(url, params\u001b[39m=\u001b[39m\u001b[39mNone\u001b[39;00m, \u001b[39m*\u001b[39m\u001b[39m*\u001b[39mkwargs):\n\u001b[1;32m     63\u001b[0m \u001b[39m    \u001b[39m\u001b[39mr\u001b[39m\u001b[39m\"\"\"Sends a GET request.\u001b[39;00m\n\u001b[1;32m     64\u001b[0m \n\u001b[1;32m     65\u001b[0m \u001b[39m    :param url: URL for the new :class:`Request` object.\u001b[39;00m\n\u001b[0;32m   (...)\u001b[0m\n\u001b[1;32m     70\u001b[0m \u001b[39m    :rtype: requests.Response\u001b[39;00m\n\u001b[1;32m     71\u001b[0m \u001b[39m    \"\"\"\u001b[39;00m\n\u001b[0;32m---> 73\u001b[0m     \u001b[39mreturn\u001b[39;00m request(\u001b[39m\"\u001b[39;49m\u001b[39mget\u001b[39;49m\u001b[39m\"\u001b[39;49m, url, params\u001b[39m=\u001b[39;49mparams, \u001b[39m*\u001b[39;49m\u001b[39m*\u001b[39;49mkwargs)\n",
      "File \u001b[0;32m~/anaconda3/envs/mpc-env/lib/python3.11/site-packages/requests/api.py:59\u001b[0m, in \u001b[0;36mrequest\u001b[0;34m(method, url, **kwargs)\u001b[0m\n\u001b[1;32m     55\u001b[0m \u001b[39m# By using the 'with' statement we are sure the session is closed, thus we\u001b[39;00m\n\u001b[1;32m     56\u001b[0m \u001b[39m# avoid leaving sockets open which can trigger a ResourceWarning in some\u001b[39;00m\n\u001b[1;32m     57\u001b[0m \u001b[39m# cases, and look like a memory leak in others.\u001b[39;00m\n\u001b[1;32m     58\u001b[0m \u001b[39mwith\u001b[39;00m sessions\u001b[39m.\u001b[39mSession() \u001b[39mas\u001b[39;00m session:\n\u001b[0;32m---> 59\u001b[0m     \u001b[39mreturn\u001b[39;00m session\u001b[39m.\u001b[39;49mrequest(method\u001b[39m=\u001b[39;49mmethod, url\u001b[39m=\u001b[39;49murl, \u001b[39m*\u001b[39;49m\u001b[39m*\u001b[39;49mkwargs)\n",
      "File \u001b[0;32m~/anaconda3/envs/mpc-env/lib/python3.11/site-packages/requests/sessions.py:589\u001b[0m, in \u001b[0;36mSession.request\u001b[0;34m(self, method, url, params, data, headers, cookies, files, auth, timeout, allow_redirects, proxies, hooks, stream, verify, cert, json)\u001b[0m\n\u001b[1;32m    584\u001b[0m send_kwargs \u001b[39m=\u001b[39m {\n\u001b[1;32m    585\u001b[0m     \u001b[39m\"\u001b[39m\u001b[39mtimeout\u001b[39m\u001b[39m\"\u001b[39m: timeout,\n\u001b[1;32m    586\u001b[0m     \u001b[39m\"\u001b[39m\u001b[39mallow_redirects\u001b[39m\u001b[39m\"\u001b[39m: allow_redirects,\n\u001b[1;32m    587\u001b[0m }\n\u001b[1;32m    588\u001b[0m send_kwargs\u001b[39m.\u001b[39mupdate(settings)\n\u001b[0;32m--> 589\u001b[0m resp \u001b[39m=\u001b[39m \u001b[39mself\u001b[39;49m\u001b[39m.\u001b[39;49msend(prep, \u001b[39m*\u001b[39;49m\u001b[39m*\u001b[39;49msend_kwargs)\n\u001b[1;32m    591\u001b[0m \u001b[39mreturn\u001b[39;00m resp\n",
      "File \u001b[0;32m~/anaconda3/envs/mpc-env/lib/python3.11/site-packages/requests/sessions.py:703\u001b[0m, in \u001b[0;36mSession.send\u001b[0;34m(self, request, **kwargs)\u001b[0m\n\u001b[1;32m    700\u001b[0m start \u001b[39m=\u001b[39m preferred_clock()\n\u001b[1;32m    702\u001b[0m \u001b[39m# Send the request\u001b[39;00m\n\u001b[0;32m--> 703\u001b[0m r \u001b[39m=\u001b[39m adapter\u001b[39m.\u001b[39;49msend(request, \u001b[39m*\u001b[39;49m\u001b[39m*\u001b[39;49mkwargs)\n\u001b[1;32m    705\u001b[0m \u001b[39m# Total elapsed time of the request (approximately)\u001b[39;00m\n\u001b[1;32m    706\u001b[0m elapsed \u001b[39m=\u001b[39m preferred_clock() \u001b[39m-\u001b[39m start\n",
      "File \u001b[0;32m~/anaconda3/envs/mpc-env/lib/python3.11/site-packages/requests/adapters.py:486\u001b[0m, in \u001b[0;36mHTTPAdapter.send\u001b[0;34m(self, request, stream, timeout, verify, cert, proxies)\u001b[0m\n\u001b[1;32m    483\u001b[0m     timeout \u001b[39m=\u001b[39m TimeoutSauce(connect\u001b[39m=\u001b[39mtimeout, read\u001b[39m=\u001b[39mtimeout)\n\u001b[1;32m    485\u001b[0m \u001b[39mtry\u001b[39;00m:\n\u001b[0;32m--> 486\u001b[0m     resp \u001b[39m=\u001b[39m conn\u001b[39m.\u001b[39;49murlopen(\n\u001b[1;32m    487\u001b[0m         method\u001b[39m=\u001b[39;49mrequest\u001b[39m.\u001b[39;49mmethod,\n\u001b[1;32m    488\u001b[0m         url\u001b[39m=\u001b[39;49murl,\n\u001b[1;32m    489\u001b[0m         body\u001b[39m=\u001b[39;49mrequest\u001b[39m.\u001b[39;49mbody,\n\u001b[1;32m    490\u001b[0m         headers\u001b[39m=\u001b[39;49mrequest\u001b[39m.\u001b[39;49mheaders,\n\u001b[1;32m    491\u001b[0m         redirect\u001b[39m=\u001b[39;49m\u001b[39mFalse\u001b[39;49;00m,\n\u001b[1;32m    492\u001b[0m         assert_same_host\u001b[39m=\u001b[39;49m\u001b[39mFalse\u001b[39;49;00m,\n\u001b[1;32m    493\u001b[0m         preload_content\u001b[39m=\u001b[39;49m\u001b[39mFalse\u001b[39;49;00m,\n\u001b[1;32m    494\u001b[0m         decode_content\u001b[39m=\u001b[39;49m\u001b[39mFalse\u001b[39;49;00m,\n\u001b[1;32m    495\u001b[0m         retries\u001b[39m=\u001b[39;49m\u001b[39mself\u001b[39;49m\u001b[39m.\u001b[39;49mmax_retries,\n\u001b[1;32m    496\u001b[0m         timeout\u001b[39m=\u001b[39;49mtimeout,\n\u001b[1;32m    497\u001b[0m         chunked\u001b[39m=\u001b[39;49mchunked,\n\u001b[1;32m    498\u001b[0m     )\n\u001b[1;32m    500\u001b[0m \u001b[39mexcept\u001b[39;00m (ProtocolError, \u001b[39mOSError\u001b[39;00m) \u001b[39mas\u001b[39;00m err:\n\u001b[1;32m    501\u001b[0m     \u001b[39mraise\u001b[39;00m \u001b[39mConnectionError\u001b[39;00m(err, request\u001b[39m=\u001b[39mrequest)\n",
      "File \u001b[0;32m~/anaconda3/envs/mpc-env/lib/python3.11/site-packages/urllib3/connectionpool.py:790\u001b[0m, in \u001b[0;36mHTTPConnectionPool.urlopen\u001b[0;34m(self, method, url, body, headers, retries, redirect, assert_same_host, timeout, pool_timeout, release_conn, chunked, body_pos, preload_content, decode_content, **response_kw)\u001b[0m\n\u001b[1;32m    787\u001b[0m response_conn \u001b[39m=\u001b[39m conn \u001b[39mif\u001b[39;00m \u001b[39mnot\u001b[39;00m release_conn \u001b[39melse\u001b[39;00m \u001b[39mNone\u001b[39;00m\n\u001b[1;32m    789\u001b[0m \u001b[39m# Make the request on the HTTPConnection object\u001b[39;00m\n\u001b[0;32m--> 790\u001b[0m response \u001b[39m=\u001b[39m \u001b[39mself\u001b[39;49m\u001b[39m.\u001b[39;49m_make_request(\n\u001b[1;32m    791\u001b[0m     conn,\n\u001b[1;32m    792\u001b[0m     method,\n\u001b[1;32m    793\u001b[0m     url,\n\u001b[1;32m    794\u001b[0m     timeout\u001b[39m=\u001b[39;49mtimeout_obj,\n\u001b[1;32m    795\u001b[0m     body\u001b[39m=\u001b[39;49mbody,\n\u001b[1;32m    796\u001b[0m     headers\u001b[39m=\u001b[39;49mheaders,\n\u001b[1;32m    797\u001b[0m     chunked\u001b[39m=\u001b[39;49mchunked,\n\u001b[1;32m    798\u001b[0m     retries\u001b[39m=\u001b[39;49mretries,\n\u001b[1;32m    799\u001b[0m     response_conn\u001b[39m=\u001b[39;49mresponse_conn,\n\u001b[1;32m    800\u001b[0m     preload_content\u001b[39m=\u001b[39;49mpreload_content,\n\u001b[1;32m    801\u001b[0m     decode_content\u001b[39m=\u001b[39;49mdecode_content,\n\u001b[1;32m    802\u001b[0m     \u001b[39m*\u001b[39;49m\u001b[39m*\u001b[39;49mresponse_kw,\n\u001b[1;32m    803\u001b[0m )\n\u001b[1;32m    805\u001b[0m \u001b[39m# Everything went great!\u001b[39;00m\n\u001b[1;32m    806\u001b[0m clean_exit \u001b[39m=\u001b[39m \u001b[39mTrue\u001b[39;00m\n",
      "File \u001b[0;32m~/anaconda3/envs/mpc-env/lib/python3.11/site-packages/urllib3/connectionpool.py:467\u001b[0m, in \u001b[0;36mHTTPConnectionPool._make_request\u001b[0;34m(self, conn, method, url, body, headers, retries, timeout, chunked, response_conn, preload_content, decode_content, enforce_content_length)\u001b[0m\n\u001b[1;32m    464\u001b[0m \u001b[39mtry\u001b[39;00m:\n\u001b[1;32m    465\u001b[0m     \u001b[39m# Trigger any extra validation we need to do.\u001b[39;00m\n\u001b[1;32m    466\u001b[0m     \u001b[39mtry\u001b[39;00m:\n\u001b[0;32m--> 467\u001b[0m         \u001b[39mself\u001b[39;49m\u001b[39m.\u001b[39;49m_validate_conn(conn)\n\u001b[1;32m    468\u001b[0m     \u001b[39mexcept\u001b[39;00m (SocketTimeout, BaseSSLError) \u001b[39mas\u001b[39;00m e:\n\u001b[1;32m    469\u001b[0m         \u001b[39mself\u001b[39m\u001b[39m.\u001b[39m_raise_timeout(err\u001b[39m=\u001b[39me, url\u001b[39m=\u001b[39murl, timeout_value\u001b[39m=\u001b[39mconn\u001b[39m.\u001b[39mtimeout)\n",
      "File \u001b[0;32m~/anaconda3/envs/mpc-env/lib/python3.11/site-packages/urllib3/connectionpool.py:1096\u001b[0m, in \u001b[0;36mHTTPSConnectionPool._validate_conn\u001b[0;34m(self, conn)\u001b[0m\n\u001b[1;32m   1094\u001b[0m \u001b[39m# Force connect early to allow us to validate the connection.\u001b[39;00m\n\u001b[1;32m   1095\u001b[0m \u001b[39mif\u001b[39;00m conn\u001b[39m.\u001b[39mis_closed:\n\u001b[0;32m-> 1096\u001b[0m     conn\u001b[39m.\u001b[39;49mconnect()\n\u001b[1;32m   1098\u001b[0m \u001b[39mif\u001b[39;00m \u001b[39mnot\u001b[39;00m conn\u001b[39m.\u001b[39mis_verified:\n\u001b[1;32m   1099\u001b[0m     warnings\u001b[39m.\u001b[39mwarn(\n\u001b[1;32m   1100\u001b[0m         (\n\u001b[1;32m   1101\u001b[0m             \u001b[39mf\u001b[39m\u001b[39m\"\u001b[39m\u001b[39mUnverified HTTPS request is being made to host \u001b[39m\u001b[39m'\u001b[39m\u001b[39m{\u001b[39;00mconn\u001b[39m.\u001b[39mhost\u001b[39m}\u001b[39;00m\u001b[39m'\u001b[39m\u001b[39m. \u001b[39m\u001b[39m\"\u001b[39m\n\u001b[0;32m   (...)\u001b[0m\n\u001b[1;32m   1106\u001b[0m         InsecureRequestWarning,\n\u001b[1;32m   1107\u001b[0m     )\n",
      "File \u001b[0;32m~/anaconda3/envs/mpc-env/lib/python3.11/site-packages/urllib3/connection.py:642\u001b[0m, in \u001b[0;36mHTTPSConnection.connect\u001b[0;34m(self)\u001b[0m\n\u001b[1;32m    633\u001b[0m \u001b[39mif\u001b[39;00m is_time_off:\n\u001b[1;32m    634\u001b[0m     warnings\u001b[39m.\u001b[39mwarn(\n\u001b[1;32m    635\u001b[0m         (\n\u001b[1;32m    636\u001b[0m             \u001b[39mf\u001b[39m\u001b[39m\"\u001b[39m\u001b[39mSystem time is way off (before \u001b[39m\u001b[39m{\u001b[39;00mRECENT_DATE\u001b[39m}\u001b[39;00m\u001b[39m). This will probably \u001b[39m\u001b[39m\"\u001b[39m\n\u001b[0;32m   (...)\u001b[0m\n\u001b[1;32m    639\u001b[0m         SystemTimeWarning,\n\u001b[1;32m    640\u001b[0m     )\n\u001b[0;32m--> 642\u001b[0m sock_and_verified \u001b[39m=\u001b[39m _ssl_wrap_socket_and_match_hostname(\n\u001b[1;32m    643\u001b[0m     sock\u001b[39m=\u001b[39;49msock,\n\u001b[1;32m    644\u001b[0m     cert_reqs\u001b[39m=\u001b[39;49m\u001b[39mself\u001b[39;49m\u001b[39m.\u001b[39;49mcert_reqs,\n\u001b[1;32m    645\u001b[0m     ssl_version\u001b[39m=\u001b[39;49m\u001b[39mself\u001b[39;49m\u001b[39m.\u001b[39;49mssl_version,\n\u001b[1;32m    646\u001b[0m     ssl_minimum_version\u001b[39m=\u001b[39;49m\u001b[39mself\u001b[39;49m\u001b[39m.\u001b[39;49mssl_minimum_version,\n\u001b[1;32m    647\u001b[0m     ssl_maximum_version\u001b[39m=\u001b[39;49m\u001b[39mself\u001b[39;49m\u001b[39m.\u001b[39;49mssl_maximum_version,\n\u001b[1;32m    648\u001b[0m     ca_certs\u001b[39m=\u001b[39;49m\u001b[39mself\u001b[39;49m\u001b[39m.\u001b[39;49mca_certs,\n\u001b[1;32m    649\u001b[0m     ca_cert_dir\u001b[39m=\u001b[39;49m\u001b[39mself\u001b[39;49m\u001b[39m.\u001b[39;49mca_cert_dir,\n\u001b[1;32m    650\u001b[0m     ca_cert_data\u001b[39m=\u001b[39;49m\u001b[39mself\u001b[39;49m\u001b[39m.\u001b[39;49mca_cert_data,\n\u001b[1;32m    651\u001b[0m     cert_file\u001b[39m=\u001b[39;49m\u001b[39mself\u001b[39;49m\u001b[39m.\u001b[39;49mcert_file,\n\u001b[1;32m    652\u001b[0m     key_file\u001b[39m=\u001b[39;49m\u001b[39mself\u001b[39;49m\u001b[39m.\u001b[39;49mkey_file,\n\u001b[1;32m    653\u001b[0m     key_password\u001b[39m=\u001b[39;49m\u001b[39mself\u001b[39;49m\u001b[39m.\u001b[39;49mkey_password,\n\u001b[1;32m    654\u001b[0m     server_hostname\u001b[39m=\u001b[39;49mserver_hostname,\n\u001b[1;32m    655\u001b[0m     ssl_context\u001b[39m=\u001b[39;49m\u001b[39mself\u001b[39;49m\u001b[39m.\u001b[39;49mssl_context,\n\u001b[1;32m    656\u001b[0m     tls_in_tls\u001b[39m=\u001b[39;49mtls_in_tls,\n\u001b[1;32m    657\u001b[0m     assert_hostname\u001b[39m=\u001b[39;49m\u001b[39mself\u001b[39;49m\u001b[39m.\u001b[39;49massert_hostname,\n\u001b[1;32m    658\u001b[0m     assert_fingerprint\u001b[39m=\u001b[39;49m\u001b[39mself\u001b[39;49m\u001b[39m.\u001b[39;49massert_fingerprint,\n\u001b[1;32m    659\u001b[0m )\n\u001b[1;32m    660\u001b[0m \u001b[39mself\u001b[39m\u001b[39m.\u001b[39msock \u001b[39m=\u001b[39m sock_and_verified\u001b[39m.\u001b[39msocket\n\u001b[1;32m    661\u001b[0m \u001b[39mself\u001b[39m\u001b[39m.\u001b[39mis_verified \u001b[39m=\u001b[39m sock_and_verified\u001b[39m.\u001b[39mis_verified\n",
      "File \u001b[0;32m~/anaconda3/envs/mpc-env/lib/python3.11/site-packages/urllib3/connection.py:782\u001b[0m, in \u001b[0;36m_ssl_wrap_socket_and_match_hostname\u001b[0;34m(sock, cert_reqs, ssl_version, ssl_minimum_version, ssl_maximum_version, cert_file, key_file, key_password, ca_certs, ca_cert_dir, ca_cert_data, assert_hostname, assert_fingerprint, server_hostname, ssl_context, tls_in_tls)\u001b[0m\n\u001b[1;32m    779\u001b[0m     \u001b[39mif\u001b[39;00m is_ipaddress(normalized):\n\u001b[1;32m    780\u001b[0m         server_hostname \u001b[39m=\u001b[39m normalized\n\u001b[0;32m--> 782\u001b[0m ssl_sock \u001b[39m=\u001b[39m ssl_wrap_socket(\n\u001b[1;32m    783\u001b[0m     sock\u001b[39m=\u001b[39;49msock,\n\u001b[1;32m    784\u001b[0m     keyfile\u001b[39m=\u001b[39;49mkey_file,\n\u001b[1;32m    785\u001b[0m     certfile\u001b[39m=\u001b[39;49mcert_file,\n\u001b[1;32m    786\u001b[0m     key_password\u001b[39m=\u001b[39;49mkey_password,\n\u001b[1;32m    787\u001b[0m     ca_certs\u001b[39m=\u001b[39;49mca_certs,\n\u001b[1;32m    788\u001b[0m     ca_cert_dir\u001b[39m=\u001b[39;49mca_cert_dir,\n\u001b[1;32m    789\u001b[0m     ca_cert_data\u001b[39m=\u001b[39;49mca_cert_data,\n\u001b[1;32m    790\u001b[0m     server_hostname\u001b[39m=\u001b[39;49mserver_hostname,\n\u001b[1;32m    791\u001b[0m     ssl_context\u001b[39m=\u001b[39;49mcontext,\n\u001b[1;32m    792\u001b[0m     tls_in_tls\u001b[39m=\u001b[39;49mtls_in_tls,\n\u001b[1;32m    793\u001b[0m )\n\u001b[1;32m    795\u001b[0m \u001b[39mtry\u001b[39;00m:\n\u001b[1;32m    796\u001b[0m     \u001b[39mif\u001b[39;00m assert_fingerprint:\n",
      "File \u001b[0;32m~/anaconda3/envs/mpc-env/lib/python3.11/site-packages/urllib3/util/ssl_.py:470\u001b[0m, in \u001b[0;36mssl_wrap_socket\u001b[0;34m(sock, keyfile, certfile, cert_reqs, ca_certs, server_hostname, ssl_version, ciphers, ssl_context, ca_cert_dir, key_password, ca_cert_data, tls_in_tls)\u001b[0m\n\u001b[1;32m    467\u001b[0m \u001b[39mexcept\u001b[39;00m \u001b[39mNotImplementedError\u001b[39;00m:  \u001b[39m# Defensive: in CI, we always have set_alpn_protocols\u001b[39;00m\n\u001b[1;32m    468\u001b[0m     \u001b[39mpass\u001b[39;00m\n\u001b[0;32m--> 470\u001b[0m ssl_sock \u001b[39m=\u001b[39m _ssl_wrap_socket_impl(sock, context, tls_in_tls, server_hostname)\n\u001b[1;32m    471\u001b[0m \u001b[39mreturn\u001b[39;00m ssl_sock\n",
      "File \u001b[0;32m~/anaconda3/envs/mpc-env/lib/python3.11/site-packages/urllib3/util/ssl_.py:514\u001b[0m, in \u001b[0;36m_ssl_wrap_socket_impl\u001b[0;34m(sock, ssl_context, tls_in_tls, server_hostname)\u001b[0m\n\u001b[1;32m    511\u001b[0m     SSLTransport\u001b[39m.\u001b[39m_validate_ssl_context_for_tls_in_tls(ssl_context)\n\u001b[1;32m    512\u001b[0m     \u001b[39mreturn\u001b[39;00m SSLTransport(sock, ssl_context, server_hostname)\n\u001b[0;32m--> 514\u001b[0m \u001b[39mreturn\u001b[39;00m ssl_context\u001b[39m.\u001b[39;49mwrap_socket(sock, server_hostname\u001b[39m=\u001b[39;49mserver_hostname)\n",
      "File \u001b[0;32m~/anaconda3/envs/mpc-env/lib/python3.11/ssl.py:517\u001b[0m, in \u001b[0;36mSSLContext.wrap_socket\u001b[0;34m(self, sock, server_side, do_handshake_on_connect, suppress_ragged_eofs, server_hostname, session)\u001b[0m\n\u001b[1;32m    511\u001b[0m \u001b[39mdef\u001b[39;00m \u001b[39mwrap_socket\u001b[39m(\u001b[39mself\u001b[39m, sock, server_side\u001b[39m=\u001b[39m\u001b[39mFalse\u001b[39;00m,\n\u001b[1;32m    512\u001b[0m                 do_handshake_on_connect\u001b[39m=\u001b[39m\u001b[39mTrue\u001b[39;00m,\n\u001b[1;32m    513\u001b[0m                 suppress_ragged_eofs\u001b[39m=\u001b[39m\u001b[39mTrue\u001b[39;00m,\n\u001b[1;32m    514\u001b[0m                 server_hostname\u001b[39m=\u001b[39m\u001b[39mNone\u001b[39;00m, session\u001b[39m=\u001b[39m\u001b[39mNone\u001b[39;00m):\n\u001b[1;32m    515\u001b[0m     \u001b[39m# SSLSocket class handles server_hostname encoding before it calls\u001b[39;00m\n\u001b[1;32m    516\u001b[0m     \u001b[39m# ctx._wrap_socket()\u001b[39;00m\n\u001b[0;32m--> 517\u001b[0m     \u001b[39mreturn\u001b[39;00m \u001b[39mself\u001b[39;49m\u001b[39m.\u001b[39;49msslsocket_class\u001b[39m.\u001b[39;49m_create(\n\u001b[1;32m    518\u001b[0m         sock\u001b[39m=\u001b[39;49msock,\n\u001b[1;32m    519\u001b[0m         server_side\u001b[39m=\u001b[39;49mserver_side,\n\u001b[1;32m    520\u001b[0m         do_handshake_on_connect\u001b[39m=\u001b[39;49mdo_handshake_on_connect,\n\u001b[1;32m    521\u001b[0m         suppress_ragged_eofs\u001b[39m=\u001b[39;49msuppress_ragged_eofs,\n\u001b[1;32m    522\u001b[0m         server_hostname\u001b[39m=\u001b[39;49mserver_hostname,\n\u001b[1;32m    523\u001b[0m         context\u001b[39m=\u001b[39;49m\u001b[39mself\u001b[39;49m,\n\u001b[1;32m    524\u001b[0m         session\u001b[39m=\u001b[39;49msession\n\u001b[1;32m    525\u001b[0m     )\n",
      "File \u001b[0;32m~/anaconda3/envs/mpc-env/lib/python3.11/ssl.py:1075\u001b[0m, in \u001b[0;36mSSLSocket._create\u001b[0;34m(cls, sock, server_side, do_handshake_on_connect, suppress_ragged_eofs, server_hostname, context, session)\u001b[0m\n\u001b[1;32m   1072\u001b[0m         \u001b[39mif\u001b[39;00m timeout \u001b[39m==\u001b[39m \u001b[39m0.0\u001b[39m:\n\u001b[1;32m   1073\u001b[0m             \u001b[39m# non-blocking\u001b[39;00m\n\u001b[1;32m   1074\u001b[0m             \u001b[39mraise\u001b[39;00m \u001b[39mValueError\u001b[39;00m(\u001b[39m\"\u001b[39m\u001b[39mdo_handshake_on_connect should not be specified for non-blocking sockets\u001b[39m\u001b[39m\"\u001b[39m)\n\u001b[0;32m-> 1075\u001b[0m         \u001b[39mself\u001b[39;49m\u001b[39m.\u001b[39;49mdo_handshake()\n\u001b[1;32m   1076\u001b[0m \u001b[39mexcept\u001b[39;00m (\u001b[39mOSError\u001b[39;00m, \u001b[39mValueError\u001b[39;00m):\n\u001b[1;32m   1077\u001b[0m     \u001b[39mself\u001b[39m\u001b[39m.\u001b[39mclose()\n",
      "File \u001b[0;32m~/anaconda3/envs/mpc-env/lib/python3.11/ssl.py:1346\u001b[0m, in \u001b[0;36mSSLSocket.do_handshake\u001b[0;34m(self, block)\u001b[0m\n\u001b[1;32m   1344\u001b[0m     \u001b[39mif\u001b[39;00m timeout \u001b[39m==\u001b[39m \u001b[39m0.0\u001b[39m \u001b[39mand\u001b[39;00m block:\n\u001b[1;32m   1345\u001b[0m         \u001b[39mself\u001b[39m\u001b[39m.\u001b[39msettimeout(\u001b[39mNone\u001b[39;00m)\n\u001b[0;32m-> 1346\u001b[0m     \u001b[39mself\u001b[39m\u001b[39m.\u001b[39m_sslobj\u001b[39m.\u001b[39mdo_handshake()\n\u001b[1;32m   1347\u001b[0m \u001b[39mfinally\u001b[39;00m:\n\u001b[1;32m   1348\u001b[0m     \u001b[39mself\u001b[39m\u001b[39m.\u001b[39msettimeout(timeout)\n",
      "\u001b[0;31mKeyboardInterrupt\u001b[0m: "
     ]
    },
    {
     "data": {
      "image/png": "[encoded data removed]",
      "text/plain": [
       "<Figure size 700x700 with 1 Axes>"
      ]
     },
     "metadata": {},
     "output_type": "display_data"
    }
   ],
   "source": [
    "# add Pheonix area boundary\n",
    "ax = (phoenix.to_crs(epsg=3857)\n",
    "      .plot(figsize=(7, 7), alpha=0.5, edgecolor=\"k\"))\n",
    "\n",
    "# --------------------------------------\n",
    "# add basemap from contextily\n",
    "ctx.add_basemap(ax, source = ctx.providers.Esri.NatGeoWorldMap)\n",
    "\n",
    "# Customization\n",
    "ax.set_title('Phoenix Subdivision Map')\n",
    "ax.set_xlabel('Longitude')\n",
    "ax.set_ylabel('Latitude')\n",
    "\n",
    "# add layers\n",
    "# update axes\n",
    "ax.set_axis_off()\n",
    "\n",
    "# display figure\n",
    "plt.show()\n",
    "# save the png file\n",
    "#plt.savefig('phoenix_map.png', bbox_inches='tight',  dpi=100)"
   ]
  },
  {
   "cell_type": "markdown",
   "id": "bc35ba20-486d-4984-a034-046334cc96ad",
   "metadata": {},
   "source": [
    "## Clip the biodiversity data on Phoenix area "
   ]
  },
  {
   "cell_type": "code",
   "execution_count": null,
   "id": "efe503b6-da21-45ee-a569-c0d7e1bbb438",
   "metadata": {
    "tags": []
   },
   "outputs": [],
   "source": [
    "# clip the data only including phoenix area\n",
    "clip_bii_2017 = bii_2017_detail.rio.clip(phoenix.geometry)\n",
    "clip_bii_2020 = bii_2020_detail.rio.clip(phoenix.geometry)"
   ]
  },
  {
   "cell_type": "markdown",
   "id": "33bcf1b0-2c72-45c4-b0ff-f4a093546d6d",
   "metadata": {
    "tags": []
   },
   "source": [
    "## Assign data as 1 or 0\n",
    "\n",
    "To identify pixels that changed values from 2017 to 2020, we're looking for areas with a BII>=0.75 in 2017 and 2020. When the value is True or False, it should be converted to 0 or 1. "
   ]
  },
  {
   "cell_type": "code",
   "execution_count": null,
   "id": "1267a23b-e181-4e88-a1d1-0f521362a001",
   "metadata": {},
   "outputs": [],
   "source": [
    "# Find the values over 0.75 in 2017 and 2020\n",
    "bii_2017_least = clip_bii_2017 >= 0.75\n",
    "bii_2020_least = clip_bii_2020 >= 0.75\n",
    "\n",
    "# Assign data with True as 1 and False as 0\n",
    "above_2017 = bii_2017_least.astype(int)\n",
    "above_2020 = bii_2020_least.astype(int)"
   ]
  },
  {
   "cell_type": "markdown",
   "id": "4d70095e-7305-4bd1-8f28-953899524861",
   "metadata": {
    "tags": []
   },
   "source": [
    "## Count Pixels\n",
    "\n",
    "This section involves the process of tallying pixels using a NumPy array to determine the quantity of pixels falling within a specific class or category.\n",
    "\n",
    "To calculate the percentage area, the following formula is applied:\n",
    "The percentage area is computed by dividing the number of pixels in a particular class by the total number of pixels and multiplying the result by 100."
   ]
  },
  {
   "cell_type": "code",
   "execution_count": null,
   "id": "0f5b21ad-c422-4424-ae1a-2ed69d801017",
   "metadata": {
    "tags": []
   },
   "outputs": [],
   "source": [
    "## calculate the pixel size \n",
    "above_2017_pixel =np.unique(above_2017, return_counts = True)\n",
    "above_2020_pixel =np.unique(above_2020, return_counts = True)"
   ]
  },
  {
   "cell_type": "markdown",
   "id": "1f2b8b67-aa96-4fd2-9b19-0b0986efb732",
   "metadata": {},
   "source": [
    "This code segment extracts and presents pixel size and count data for 2017 and 2020, aiding the analysis of changes in Biodiversity Intactness over the specified years."
   ]
  },
  {
   "cell_type": "code",
   "execution_count": null,
   "id": "475ead3b-665f-45c9-a392-30f70b6edf8b",
   "metadata": {
    "tags": []
   },
   "outputs": [],
   "source": [
    "# Unpack the difference_pixel data\n",
    "# Extract pixel sizes and counts for 2017\n",
    "above_2017_pixel_count = {\n",
    "    'pixel_size': above_2017_pixel[0],\n",
    "    'n_pixel': above_2017_pixel[1],\n",
    "}\n",
    "print('Pixel sizes and counts in 2017:',above_2017_pixel_count)\n",
    "\n",
    "# Extract pixel sizes and counts for 2020\n",
    "above_2020_pixel_count = {\n",
    "    'pixel_size': above_2020_pixel[0],\n",
    "    'n_pixel': above_2020_pixel[1],\n",
    "}\n",
    "print('Pixel sizes and counts in 2020:',above_2020_pixel_count)"
   ]
  },
  {
   "cell_type": "markdown",
   "id": "708a01cd-9f14-44b3-84e6-530e48457205",
   "metadata": {},
   "source": [
    "This code creates DataFrames for pixel counts in 2017 and 2020. It calculates the total pixels for both years and then computes the percentage of pixels falling into specific classes (using index 1). Finally, it displays the calculated percentage of the Phoenix subdivision area with a Biodiversity Intactness Index (BII) of at least 0.75 for both 2017 and 2020."
   ]
  },
  {
   "cell_type": "code",
   "execution_count": null,
   "id": "126b722a-d6b4-4e7f-b807-3fd4804742a7",
   "metadata": {
    "tags": []
   },
   "outputs": [],
   "source": [
    "# Create a DataFrame from the pixel counts\n",
    "pix_counts_2017 = pd.DataFrame(above_2017_pixel_count)\n",
    "pix_counts_2020 = pd.DataFrame(above_2020_pixel_count)\n",
    "\n",
    "# Calculate total pixels\n",
    "total_pixels_2017 = pix_counts_2017['n_pixel'].sum()\n",
    "total_pixels_2020 = pix_counts_2020['n_pixel'].sum()\n",
    "\n",
    "# Calculate the percentage of pixels for specific classes (e.g., index 0 and 2)\n",
    "pixels_2017 = pix_counts_2017['n_pixel'][1] \n",
    "percent_2017 = (pixels_2017/ total_pixels_2017) * 100\n",
    "\n",
    "pixels_2020 = pix_counts_2020['n_pixel'][1] \n",
    "percent_2020 = (pixels_2020/ total_pixels_2020) * 100\n",
    "\n",
    "# Display the calculated percentage of pixels\n",
    "print('percentage of area of the Phoenix subdivision with a BII of at least 0.75 in 2017 is',round(percent_2017,3), 'percent.')\n",
    "print('percentage of area of the Phoenix subdivision with a BII of at least 0.75 in 2020 is',round(percent_2020,3), 'percent.')\n"
   ]
  },
  {
   "cell_type": "markdown",
   "id": "3e686e63-fff7-453d-9e5a-9c9bf5f26b5a",
   "metadata": {},
   "source": [
    "## Filter Values as 1\n",
    "This process involves identifying and isolating data points in the dataset that exclusively contain the value 1, possibly representing specific conditions such as Biodiversity Intactness Index (BII) values equal to or above 0.75 in 2017 and 2020."
   ]
  },
  {
   "cell_type": "code",
   "execution_count": null,
   "id": "a6485d14-76b4-47f2-8d06-4ee291df9fe6",
   "metadata": {},
   "outputs": [],
   "source": [
    "# Measure the BII >= 0.75 in 2017 and 2020\n",
    "difference = above_2017 - above_2020\n",
    "\n",
    "# Identify values equal to 1\n",
    "not_1 = difference.where(difference ==1)"
   ]
  },
  {
   "cell_type": "markdown",
   "id": "e65aa5f1-d385-4b6d-88e4-f5245b1096d2",
   "metadata": {
    "tags": []
   },
   "source": [
    "## Clip the geometry \n",
    "Clip the geometry to display areas exclusively with value 1, otherwise set as transparent"
   ]
  },
  {
   "cell_type": "code",
   "execution_count": null,
   "id": "c2875b80-4ba4-4362-b75f-4fda64b70a6f",
   "metadata": {
    "tags": []
   },
   "outputs": [],
   "source": [
    "# Assuming 'not_1' is another raster dataset loaded using Rasterio\n",
    "# NaN becomes transparent in future plot\n",
    "not_1 = not_1.rio.clip(phoenix.geometry)"
   ]
  },
  {
   "cell_type": "markdown",
   "id": "850cd8c0-15ec-4d46-81e7-103b8c95783b",
   "metadata": {},
   "source": [
    "## Map\n",
    "\n",
    "Generate a Matplotlib map illustrating the loss of Biodiversity Index values over 0.75 between 2017 and 2020 in Phoenix, AZ."
   ]
  },
  {
   "cell_type": "code",
   "execution_count": null,
   "id": "60bc0b33-cd63-4ed4-b408-36491865a57d",
   "metadata": {
    "tags": []
   },
   "outputs": [],
   "source": [
    "# Creating a Matplotlib figure and axis\n",
    "fig, ax = plt.subplots()\n",
    "ax.axis('off')\n",
    "\n",
    "# -------------------------------\n",
    "# Plotting the clipped raster\n",
    "clip_bii_2017.plot(ax=ax, cmap='Greens', cbar_kwargs={'orientation': 'horizontal', 'label': 'BII 2020'})\n",
    "\n",
    "\n",
    "# Plotting the 'not_1' raster on the same axis without a colorbar\n",
    "not_1.plot(ax=ax, cmap='Reds', add_colorbar=False)\n",
    "\n",
    "\n",
    "# -------------------------------\n",
    "# Creating a legend patch\n",
    "red_patch = mpatches.Patch(color='red', label='Area with BII ≥ 0.75 lost between 2017 and 2020')\n",
    "\n",
    "# Adding the legend to the plot\n",
    "ax.legend(handles=[red_patch], frameon=False, loc=(0.15, -0.2))\n",
    "\n",
    "# -------------------------------\n",
    "# Customizing the plot title and axes labels\n",
    "ax.set_title('Biodiversity Intactness Index (BII) - Phoenix subdivision')\n",
    "ax.set_xlabel('Longitude')\n",
    "ax.set_ylabel('Latitude')\n",
    "\n",
    "# Removing the axes\n",
    "ax.set_axis_off()\n",
    "\n",
    "# -------------------------------\n",
    "# Displaying the figure\n",
    "plt.show()\n",
    "\n",
    "# save the png file\n",
    "plt.savefig('Biodiversity_BII.png', bbox_inches='tight',  dpi=100)"
   ]
  }
 ],
 "metadata": {
  "kernelspec": {
   "display_name": "Python 3 (ipykernel)",
   "language": "python",
   "name": "python3"
  },
  "language_info": {
   "codemirror_mode": {
    "name": "ipython",
    "version": 3
   },
   "file_extension": ".py",
   "mimetype": "text/x-python",
   "name": "python",
   "nbconvert_exporter": "python",
   "pygments_lexer": "ipython3",
   "version": "3.11.4"
  }
 },
 "nbformat": 4,
 "nbformat_minor": 5
}
